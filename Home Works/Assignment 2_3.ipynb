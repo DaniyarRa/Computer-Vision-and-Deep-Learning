{
 "cells": [
  {
   "cell_type": "code",
   "execution_count": 1,
   "metadata": {},
   "outputs": [],
   "source": [
    "import cv2\n",
    "import numpy as np\n",
    "# Connects to your computer's default camera\n",
    "cap = cv2.VideoCapture(0)\n",
    "\n",
    "# Automatically grab width and height from video feed\n",
    "# (returns float which we need to convert to integer for later on!)\n",
    "width = int(cap.get(cv2.CAP_PROP_FRAME_WIDTH))\n",
    "height = int(cap.get(cv2.CAP_PROP_FRAME_HEIGHT))\n",
    "\n",
    "while True:    \n",
    "    # Capture frame-by-frame\n",
    "    ret, frame = cap.read()\n",
    "   \n",
    "    # Our operations on the frame come here\n",
    "    frame = cv2.cvtColor(frame, cv2.COLOR_BGR2GRAY)\n",
    "    tl_frame = frame[0: height // 2, 0: width // 2]\n",
    "    tr_frame = frame[0: height // 2, width // 2 : width]\n",
    "    dl_frame = frame[height // 2 : height, 0: width // 2]\n",
    "    dr_frame = frame[height // 2 : height, width // 2 : width]\n",
    "    \n",
    "    font = cv2.FONT_HERSHEY_SIMPLEX\n",
    "    \n",
    "    cv2.putText(tl_frame, text='Top Left', org=(10,230), fontFace=font, fontScale=1, color=(255,255,255), thickness=2, lineType=cv2.LINE_AA)\n",
    "    cv2.putText(dl_frame, text='Down Left', org=(10,230), fontFace=font, fontScale=1, color=(255,255,255), thickness=2, lineType=cv2.LINE_AA)\n",
    "    cv2.putText(tr_frame, text='Top Right', org=(10,230), fontFace=font, fontScale=1, color=(255,255,255), thickness=2, lineType=cv2.LINE_AA)\n",
    "    cv2.putText(dr_frame, text='Down Right', org=(10,230), fontFace=font, fontScale=1, color=(255,255,255), thickness=2, lineType=cv2.LINE_AA)\n",
    "\n",
    "    #Concatination\n",
    "    frame[0: height // 2, 0: width // 2] = tl_frame \n",
    "    frame[height // 2 : height, 0: width // 2] = dl_frame\n",
    "    frame[0: height // 2, width // 2 : width] = tr_frame\n",
    "    frame[height // 2 : height, width // 2 : width] = dr_frame\n",
    "    # Display the resulting frame\n",
    "    cv2.imshow('frame',frame)\n",
    "    \n",
    "    \n",
    "    # This command let's us quit with the \"q\" button on a keyboard.\n",
    "    # Simply pressing X on the window won't work!\n",
    "    if cv2.waitKey(1) & 0xFF == ord('q'):\n",
    "        break\n",
    "\n",
    "# When everything done, release the capture and destroy the windows\n",
    "cap.release()\n",
    "cv2.destroyAllWindows()"
   ]
  },
  {
   "cell_type": "code",
   "execution_count": 3,
   "metadata": {},
   "outputs": [
    {
     "data": {
      "text/plain": [
       "(240, 320)"
      ]
     },
     "execution_count": 3,
     "metadata": {},
     "output_type": "execute_result"
    }
   ],
   "source": [
    "tl_frame.shape"
   ]
  },
  {
   "cell_type": "code",
   "execution_count": null,
   "metadata": {},
   "outputs": [],
   "source": []
  }
 ],
 "metadata": {
  "kernelspec": {
   "display_name": "Python 3 (ipykernel)",
   "language": "python",
   "name": "python3"
  },
  "language_info": {
   "codemirror_mode": {
    "name": "ipython",
    "version": 3
   },
   "file_extension": ".py",
   "mimetype": "text/x-python",
   "name": "python",
   "nbconvert_exporter": "python",
   "pygments_lexer": "ipython3",
   "version": "3.9.12"
  }
 },
 "nbformat": 4,
 "nbformat_minor": 2
}
