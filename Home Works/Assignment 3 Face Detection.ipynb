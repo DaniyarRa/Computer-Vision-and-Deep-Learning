{
 "cells": [
  {
   "cell_type": "code",
   "execution_count": 1,
   "metadata": {},
   "outputs": [],
   "source": [
    "import cv2\n",
    "import numpy as np\n",
    "import matplotlib.pyplot as plt\n",
    "%matplotlib inline"
   ]
  },
  {
   "cell_type": "code",
   "execution_count": 9,
   "metadata": {},
   "outputs": [],
   "source": [
    "face_cascade = cv2.CascadeClassifier('../data/haarcascades/haarcascade_frontalface_default.xml')\n",
    "eye_cascade = cv2.CascadeClassifier('../DATA/haarcascades/haarcascade_eye_tree_eyeglasses.xml')"
   ]
  },
  {
   "cell_type": "code",
   "execution_count": 10,
   "metadata": {},
   "outputs": [],
   "source": [
    "def detect_face(img):\n",
    "    \n",
    "    face_img = img.copy()\n",
    "    \n",
    "    face_rects = face_cascade.detectMultiScale(face_img)\n",
    "    \n",
    "    for (x,y,w,h) in face_rects:\n",
    "        cv2.rectangle(face_img, (x,y), (x+w,y+h),(255,255,255),10)\n",
    "        \n",
    "    return face_img\n",
    "def detect_eye(img):\n",
    "    \n",
    "    face_img = img.copy()\n",
    "    \n",
    "    eyes = eye_cascade.detectMultiScale(face_img)\n",
    "    \n",
    "    for (x,y,w,h) in eyes:\n",
    "        cv2.rectangle(face_img, (x,y), (x+w,y+h),(255,255,255),10)\n",
    "        \n",
    "    return face_img"
   ]
  },
  {
   "cell_type": "code",
   "execution_count": 11,
   "metadata": {},
   "outputs": [],
   "source": [
    "cap = cv2.VideoCapture(0)\n",
    "\n",
    "while True:\n",
    "    \n",
    "    ret, frame = cap.read(0)\n",
    "    \n",
    "    frame = detect_face(frame)\n",
    "    frame = detect_eye(frame)\n",
    "    cv2.imshow('Face, Eye Detection', frame)\n",
    "    \n",
    "    c = cv2.waitKey(1)\n",
    "    if c == 27:\n",
    "        break\n",
    "        \n",
    "cap.release()\n",
    "cv2.destroyAllWindows()"
   ]
  },
  {
   "cell_type": "code",
   "execution_count": null,
   "metadata": {},
   "outputs": [],
   "source": []
  }
 ],
 "metadata": {
  "kernelspec": {
   "display_name": "Python (python-cvcourse)",
   "language": "python",
   "name": "python-cvcourse"
  },
  "language_info": {
   "codemirror_mode": {
    "name": "ipython",
    "version": 3
   },
   "file_extension": ".py",
   "mimetype": "text/x-python",
   "name": "python",
   "nbconvert_exporter": "python",
   "pygments_lexer": "ipython3",
   "version": "3.6.6"
  }
 },
 "nbformat": 4,
 "nbformat_minor": 2
}
