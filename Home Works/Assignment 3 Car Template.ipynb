{
 "cells": [
  {
   "cell_type": "code",
   "execution_count": 7,
   "metadata": {},
   "outputs": [],
   "source": [
    "import cv2\n",
    "import numpy as np\n",
    "import matplotlib.pyplot as plt\n",
    "%matplotlib inline\n",
    "import time"
   ]
  },
  {
   "cell_type": "code",
   "execution_count": null,
   "metadata": {},
   "outputs": [],
   "source": []
  },
  {
   "cell_type": "code",
   "execution_count": null,
   "metadata": {},
   "outputs": [],
   "source": []
  },
  {
   "cell_type": "code",
   "execution_count": 8,
   "metadata": {},
   "outputs": [],
   "source": [
    "car_plate_number_cascade = cv2.CascadeClassifier('../data/haarcascades/haarcascade_russian_plate_number.xml')"
   ]
  },
  {
   "cell_type": "code",
   "execution_count": 3,
   "metadata": {},
   "outputs": [],
   "source": [
    "def detect_plate(img):\n",
    "    car_img = img.copy()\n",
    "    \n",
    "    car_rects = car_plate_number_cascade.detectMultiScale(car_img, scaleFactor=1.2, minNeighbors=5)\n",
    "    \n",
    "    for (x,y,w,h) in car_rects:\n",
    "        cv2.rectangle(car_img, (x,y), (x+w,y+h),(255,0,0),3)\n",
    "        \n",
    "    return car_img\n",
    "    pass"
   ]
  },
  {
   "cell_type": "code",
   "execution_count": 11,
   "metadata": {},
   "outputs": [],
   "source": [
    "def detect_and_blur_plate(img):\n",
    "    car_img = img.copy()\n",
    "    \n",
    "    car_rects = car_plate_number_cascade.detectMultiScale(car_img, scaleFactor=1.2, minNeighbors=5)\n",
    "    h0 = 20\n",
    "    for x,y,w,h in car_rects:\n",
    "        #cv2.rectangle(car_img, (x,y), (x+w,y+h),(255,0,0),3)\n",
    "        plate = car_img[y: y + h, x: x + w]\n",
    "        \n",
    "        plate3 = cv2.resize(plate,(0,0),fx = 2, fy = 2)\n",
    "        car_img[h0: h0 + plate3.shape[0], 20: 20 + plate3.shape[1]] = plate3\n",
    "        h0 = h0 + plate3.shape[0] + 20\n",
    "        \n",
    "        plate2 = cv2.medianBlur(plate,9)\n",
    "        car_img[y: y + h, x: x + w] = plate2\n",
    "    font = cv2.FONT_HERSHEY_SIMPLEX\n",
    "    cv2.putText(car_img, text='Detected cars: {}'.format(len(car_rects)), org=(10,700), fontFace=font, fontScale=1, color=(255,255,255), thickness=2, lineType=cv2.LINE_AA)\n",
    "        \n",
    "        \n",
    "        \n",
    "    return car_img\n",
    "    \n",
    "    pass"
   ]
  },
  {
   "cell_type": "code",
   "execution_count": null,
   "metadata": {},
   "outputs": [],
   "source": []
  },
  {
   "cell_type": "code",
   "execution_count": 12,
   "metadata": {},
   "outputs": [],
   "source": [
    "cap = cv2.VideoCapture('../DATA/car_video.mp4')\n",
    "while cap.isOpened():      \n",
    "    ret, frame = cap.read()\n",
    "    if ret == True:             \n",
    "        time.sleep(1/200)\n",
    "        frame2 = detect_and_blur_plate(frame)\n",
    "        \n",
    "        \n",
    "        \n",
    "        \n",
    "        cv2.imshow('Video',frame2)\n",
    " \n",
    "        # Press q to quit\n",
    "        if cv2.waitKey(25) & 0xFF == ord('q'):            \n",
    "            break \n",
    "    else:\n",
    "        break\n",
    "        \n",
    "cap.release()\n",
    "# Closes all the frames\n",
    "cv2.destroyAllWindows()      "
   ]
  },
  {
   "cell_type": "code",
   "execution_count": null,
   "metadata": {},
   "outputs": [],
   "source": []
  },
  {
   "cell_type": "code",
   "execution_count": null,
   "metadata": {},
   "outputs": [],
   "source": []
  },
  {
   "cell_type": "code",
   "execution_count": null,
   "metadata": {},
   "outputs": [],
   "source": []
  },
  {
   "cell_type": "code",
   "execution_count": null,
   "metadata": {},
   "outputs": [],
   "source": []
  },
  {
   "cell_type": "code",
   "execution_count": null,
   "metadata": {},
   "outputs": [],
   "source": []
  },
  {
   "cell_type": "code",
   "execution_count": null,
   "metadata": {},
   "outputs": [],
   "source": []
  },
  {
   "cell_type": "code",
   "execution_count": null,
   "metadata": {},
   "outputs": [],
   "source": []
  },
  {
   "cell_type": "code",
   "execution_count": null,
   "metadata": {},
   "outputs": [],
   "source": []
  },
  {
   "cell_type": "code",
   "execution_count": null,
   "metadata": {},
   "outputs": [],
   "source": []
  }
 ],
 "metadata": {
  "kernelspec": {
   "display_name": "Python (python-cvcourse)",
   "language": "python",
   "name": "python-cvcourse"
  },
  "language_info": {
   "codemirror_mode": {
    "name": "ipython",
    "version": 3
   },
   "file_extension": ".py",
   "mimetype": "text/x-python",
   "name": "python",
   "nbconvert_exporter": "python",
   "pygments_lexer": "ipython3",
   "version": "3.6.6"
  }
 },
 "nbformat": 4,
 "nbformat_minor": 2
}
